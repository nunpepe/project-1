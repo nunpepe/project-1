{
 "cells": [
  {
   "cell_type": "markdown",
   "metadata": {},
   "source": [
    "# Blackjack\n",
    "## Data project 1"
   ]
  },
  {
   "cell_type": "markdown",
   "metadata": {},
   "source": [
    "Equally well known as Twenty-One. The rules are simple, the play is thrilling, and there is opportunity for high strategy. In fact, for the expert player who mathematically plays a perfect game and is able to count cards, the odds are sometimes in that player's favor to win.\n",
    "\n",
    "For more information about the game's rules read README.file"
   ]
  },
  {
   "cell_type": "markdown",
   "metadata": {},
   "source": [
    "### How many players? (5 max)"
   ]
  },
  {
   "cell_type": "code",
   "execution_count": null,
   "metadata": {},
   "outputs": [],
   "source": [
    "# We ask hoy many players there will be playing\n",
    "num_players = int(input(\"How many players: \"))"
   ]
  },
  {
   "cell_type": "markdown",
   "metadata": {},
   "source": [
    "### The pack & User data structure"
   ]
  },
  {
   "cell_type": "code",
   "execution_count": null,
   "metadata": {},
   "outputs": [],
   "source": [
    "import random\n",
    "\n",
    "# Variables\n",
    "deck_num = 1\n",
    "\n",
    "# Create a list with the cards \"deck\"\n",
    "colors = ['heart', 'diamonds', 'spades', 'clubs']\n",
    "special_char = {\"Ace\": 11, \"Jack\": 10, \"Queen\": 10, \"King\": 10}\n",
    "\n",
    "# Deck generator that stores it into a list\n",
    "deck = deck_num * [[value, value, color] for value in range(2, 11) for color in colors] + \\\n",
    "        [[name, special_char[name], color] for name in special_char for color in colors]\n",
    "\n",
    "# List of dics of players with score set to 0.\n",
    "players = [{\"name\": \"CPU\", \"score\": 0, \"cards\": [], \"status\": \"Hit\", \"bet\": 1000},\n",
    "          {\"name\": \"Player1\", \"score\": 0, \"cards\": [], \"status\": \"Hit\", \"bet\": 0},\n",
    "          {\"name\": \"Player2\", \"score\": 0, \"cards\": [], \"status\": \"Hit\", \"bet\": 0},\n",
    "          {\"name\": \"Player3\", \"score\": 0, \"cards\": [], \"status\": \"Hit\", \"bet\": 0},\n",
    "          {\"name\": \"Player4\", \"score\": 0, \"cards\": [], \"status\": \"Hit\", \"bet\": 0},\n",
    "          {\"name\": \"Player5\", \"score\": 0, \"cards\": [], \"status\": \"Hit\", \"bet\": 0}]\n",
    "    \n",
    "## Functions definition\n",
    "# Return the numeric value of each card\n",
    "def card_value(player, card):\n",
    "    a, b, c = players[player][\"cards\"][card]\n",
    "    return b\n",
    "\n",
    "# Return the name of each player\n",
    "def card_name(player, card):\n",
    "    a, b, c = players[player][\"cards\"][card]\n",
    "    return a, c\n",
    "\n",
    "# Return the name of each player\n",
    "def player_name(player):\n",
    "    a = players[player][\"name\"]\n",
    "    return a\n",
    "\n",
    "# Return the total score of each player\n",
    "def total_score(player):\n",
    "    a = players[player][\"score\"]\n",
    "    return a\n",
    "\n",
    "# Update the score of each player and store it within the list of dics\n",
    "def update_score():\n",
    "    for player in range(num_players + 1):\n",
    "        players[player][\"score\"] = 0\n",
    "        for card in players[player][\"cards\"]:\n",
    "            players[player][\"score\"] += card[1]\n",
    "    return\n",
    "\n",
    "# Pick a random card from the deck (+removing it from the same)\n",
    "def pick_card(player):\n",
    "    x = random.choice(deck)\n",
    "    players[player][\"cards\"].append(x)\n",
    "    deck.pop(deck.index(x))\n",
    "    return\n",
    "\n",
    "def show_cpu_card(player, card):\n",
    "    return card_name(player, card)"
   ]
  },
  {
   "cell_type": "markdown",
   "metadata": {},
   "source": [
    "### Betting"
   ]
  },
  {
   "cell_type": "code",
   "execution_count": null,
   "metadata": {},
   "outputs": [],
   "source": [
    "for player in range(num_players + 1):\n",
    "    if player_name(player) == \"CPU\":\n",
    "        continue\n",
    "    else:\n",
    "        while True:\n",
    "            print(player_name(player), \":\")\n",
    "            players[player][\"bet\"] = int(input(\"Bet: \"))\n",
    "            if players[player][\"bet\"] not in range(2, 501):\n",
    "                print(\"Choose between 2 - 500 chips.\")\n",
    "            else:\n",
    "                break"
   ]
  },
  {
   "cell_type": "markdown",
   "metadata": {},
   "source": [
    "### The deal\n",
    "\n",
    "The croupier gives 2 cards to each player"
   ]
  },
  {
   "cell_type": "code",
   "execution_count": null,
   "metadata": {},
   "outputs": [],
   "source": [
    "# First round - Give 2 cards starting with the player and not showing the second card that has de CPU\n",
    "for player in range(num_players + 1):\n",
    "    # Create a function that picks and removes cards from the deck\n",
    "    for value in range(2): \n",
    "        pick_card(player)\n",
    "    \n",
    "    # Update score\n",
    "    update_score()\n",
    "    \n",
    "    #Print cards and scores\n",
    "    if player_name(player) == \"CPU\":\n",
    "        print(player_name(player), \":\", show_cpu_card(0, 0))\n",
    "        continue\n",
    "    else:\n",
    "        for card in range(len(players[player][\"cards\"])):\n",
    "            print(player_name(player), \":\", card_name(player, card))\n",
    "    \n",
    "    print(player_name(player), \":\", \"total = \", total_score(player))"
   ]
  },
  {
   "cell_type": "markdown",
   "metadata": {},
   "source": [
    "### The play\n",
    "The croupier asks each player if the whant to \"Stand\" or \"Hit"
   ]
  },
  {
   "cell_type": "code",
   "execution_count": null,
   "metadata": {},
   "outputs": [],
   "source": [
    "# Ask each users for their next move\n",
    "for player in range(num_players + 1):\n",
    "    # CPU\n",
    "    if player_name(player) == \"CPU\":\n",
    "        continue\n",
    "    \n",
    "    # Other users    \n",
    "    else:\n",
    "        while players[player][\"score\"] <= 21:\n",
    "            update_score()\n",
    "            while True:\n",
    "                print(player_name(player), \":\", \"total = \", total_score(player))\n",
    "                players[player][\"status\"] = input(\"Hit or Stand: \")\n",
    "                if players[player][\"status\"] == \"Hit\" or \"Stand\":\n",
    "                    break\n",
    "                else:\n",
    "                    print(\"Choose between Hit or Stand.\")\n",
    "        \n",
    "            # If they ask for another card\n",
    "            if players[player][\"status\"] == \"Hit\":\n",
    "                pick_card(player)   \n",
    "\n",
    "            # If they decide to Stand\n",
    "            else:\n",
    "                break\n",
    "\n",
    "            # Update score\n",
    "            update_score() \n",
    "\n",
    "            print(player_name(player), \":\", \"total = \", total_score(player))\n",
    "    \n",
    "    #Print cards and scores\n",
    "    for card in range(len(players[player][\"cards\"])):\n",
    "        if player_name(player) == \"CPU\":\n",
    "            continue\n",
    "        else:\n",
    "            print(player_name(player), \":\", card_name(player, card))\n",
    "   \n",
    "    if player_name(player) == \"CPU\":\n",
    "        continue\n",
    "    else:\n",
    "        print(player_name(player), \":\", \"total = \", total_score(player))"
   ]
  },
  {
   "cell_type": "markdown",
   "metadata": {},
   "source": [
    "### The dealers play"
   ]
  },
  {
   "cell_type": "code",
   "execution_count": null,
   "metadata": {},
   "outputs": [],
   "source": [
    "for player in range(num_players + 1):\n",
    "    if player_name(player) == \"CPU\":\n",
    "        while players[player][\"score\"] < 17:\n",
    "            pick_card(player)\n",
    "            update_score()\n",
    "        print(player_name(player), \":\", \"total = \", total_score(player))\n",
    "    else:\n",
    "        continue"
   ]
  },
  {
   "cell_type": "markdown",
   "metadata": {},
   "source": [
    "### Check results and collect money or pay rewards"
   ]
  },
  {
   "cell_type": "code",
   "execution_count": null,
   "metadata": {},
   "outputs": [],
   "source": [
    "# Check winner\n",
    "for player in range(num_players + 1):\n",
    "    if player_name(player) == \"CPU\":\n",
    "        continue\n",
    "    else:\n",
    "        if total_score(player) == 21 and total_score(0) != 21:\n",
    "            reward = int(players[player][\"bet\"] * 2.5)\n",
    "            print(player_name(player), \":\", \"Blackjack! Your\", reward, \"chips\")\n",
    "        elif total_score(player) > total_score(0) and total_score(player) < 21:\n",
    "            reward = players[player][\"bet\"] * 2\n",
    "            print(\"You have won\", reward, \"chips\")\n",
    "        elif total_score(player) <= 21 and total_score(0) > 21:\n",
    "            reward = players[player][\"bet\"] * 2\n",
    "            print(player_name(player), \":\", \"You have won\", reward, \"chips\")\n",
    "        elif total_score(player) == total_score(0) and total_score(player) <= 21:\n",
    "            reward = players[player][\"bet\"]\n",
    "            print(player_name(player), \":\", \"Draw. Your\", reward, \"chips\")\n",
    "        else:\n",
    "            print(player_name(player), \":\", \"CPU wins\")"
   ]
  }
 ],
 "metadata": {
  "kernelspec": {
   "display_name": "Python 3",
   "language": "python",
   "name": "python3"
  },
  "language_info": {
   "codemirror_mode": {
    "name": "ipython",
    "version": 3
   },
   "file_extension": ".py",
   "mimetype": "text/x-python",
   "name": "python",
   "nbconvert_exporter": "python",
   "pygments_lexer": "ipython3",
   "version": "3.8.3"
  }
 },
 "nbformat": 4,
 "nbformat_minor": 4
}
