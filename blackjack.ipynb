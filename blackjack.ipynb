{
 "cells": [
  {
   "cell_type": "markdown",
   "metadata": {},
   "source": [
    "# Blackjack\n",
    "## Data project 1"
   ]
  },
  {
   "cell_type": "markdown",
   "metadata": {},
   "source": [
    "Equally well known as Twenty-One. The rules are simple, the play is thrilling, and there is opportunity for high strategy. In fact, for the expert player who mathematically plays a perfect game and is able to count cards, the odds are sometimes in that player's favor to win.\n",
    "\n",
    "For more information about the game's rules read README.file"
   ]
  },
  {
   "cell_type": "code",
   "execution_count": 13,
   "metadata": {},
   "outputs": [],
   "source": [
    "import random"
   ]
  },
  {
   "cell_type": "code",
   "execution_count": 14,
   "metadata": {},
   "outputs": [],
   "source": [
    "# Variables\n",
    "deck_num = 1"
   ]
  },
  {
   "cell_type": "code",
   "execution_count": 15,
   "metadata": {},
   "outputs": [],
   "source": [
    "# Functions\n",
    "# 1. deal cards and remove them from the deck\n",
    "#def deal_card(player):\n",
    "#    player.append(random.choice(deck)) \n",
    "#    deck.pop(deck.index(player[value]))\n",
    "#    return deck\n",
    "\n",
    "# 2. Update scores\n",
    "#def update_scores()\n",
    "#    for player in players:\n",
    "#    return    \n",
    "\n",
    "# Update score\n",
    "# for number, color in cpu:\n",
    "#    score_cpu += number\n",
    "# print(score_cpu)\n",
    "\n",
    "# for number, color in player:\n",
    "#    score_player += number\n",
    "# print(score_player)\n",
    "\n",
    "# 3. Show cards function\n",
    "#def show_cards(player):\n",
    "#    for card in players[player][\"cards\"]:\n",
    "#        return str(players[1][\"cards\"][card][0]) + str(players[1][\"cards\"][card][2])"
   ]
  },
  {
   "cell_type": "markdown",
   "metadata": {},
   "source": [
    "### How many players?\n",
    "We asume that player 0 will always be the cpu"
   ]
  },
  {
   "cell_type": "code",
   "execution_count": null,
   "metadata": {},
   "outputs": [],
   "source": [
    "num_players = int(input(\"How many players: \"))\n",
    "print(\"We are playing\", num_players, \"against the CPU\")"
   ]
  },
  {
   "cell_type": "markdown",
   "metadata": {},
   "source": [
    "### Card pack & User data structure"
   ]
  },
  {
   "cell_type": "code",
   "execution_count": 5,
   "metadata": {},
   "outputs": [],
   "source": [
    "# List of dics of players with score set to 0.\n",
    "players = [{\"name\": \"CPU\", \"score\": 0, \"cards\": []},\n",
    "          {\"name\": \"Player1\", \"score\": 0, \"cards\": []}]\n",
    "    \n",
    "# Create a list with the cards \"deck\"\n",
    "colors = ['heart', 'diamonds', 'spades', 'clubs']\n",
    "special_char = {\"Ace\": 11, \"Jack\": 10, \"Queen\": 10, \"King\": 10}\n",
    "\n",
    "deck = deck_num * [[value, value, color] for value in range(2, 11) for color in colors] + \\\n",
    "        [[name, special_char[name], color] for name in special_char for color in colors]"
   ]
  },
  {
   "cell_type": "markdown",
   "metadata": {},
   "source": [
    "### Basics of the game\n",
    "\n",
    "Round 1"
   ]
  },
  {
   "cell_type": "code",
   "execution_count": 6,
   "metadata": {},
   "outputs": [
    {
     "name": "stdout",
     "output_type": "stream",
     "text": [
      "CPU has\n",
      "Player1 has\n",
      "[{'name': 'CPU', 'score': 0, 'cards': [[9, 9, 'clubs'], ['Jack', 10, 'spades']]}, {'name': 'Player1', 'score': 0, 'cards': [[6, 6, 'diamonds'], ['Ace', 11, 'heart']]}]\n"
     ]
    }
   ],
   "source": [
    "# First round - Give 2 cards starting with the player and not showing the second card that has de CPU\n",
    "for player in range(num_players + 1):\n",
    "    for value in range(0,2): # Create a function that picks and removes cards from the deck\n",
    "        x = random.choice(deck)\n",
    "        players[player][\"cards\"].append(x)\n",
    "        deck.pop(deck.index(x)) # Remove the cards from deck\n",
    "    print(players[player][\"name\"], \"has\")\n",
    "#    for card in players[player][\"cards\"]:\n",
    "#        print(players[1][\"cards\"][card][0]), str(players[1][\"cards\"][card][2])\n",
    "\n",
    "print(players)"
   ]
  },
  {
   "cell_type": "markdown",
   "metadata": {},
   "source": [
    "Round 2+"
   ]
  },
  {
   "cell_type": "code",
   "execution_count": 12,
   "metadata": {},
   "outputs": [
    {
     "name": "stdout",
     "output_type": "stream",
     "text": [
      "Hit or Stand: hit\n",
      "Hit or Stand: stand\n",
      "[{'name': 'CPU', 'score': 38, 'cards': [[9, 9, 'clubs'], ['Jack', 10, 'spades']]}, {'name': 'Player1', 'score': 96, 'cards': [[6, 6, 'diamonds'], ['Ace', 11, 'heart'], [7, 7, 'clubs'], [7, 7, 'heart']]}]\n"
     ]
    }
   ],
   "source": [
    "# while user # There is no winner\n",
    "player_inp = \"Hit\"\n",
    "\n",
    "# Ask users for their next move\n",
    "while player_inp == \"Hit\" or player_inp == \"hit\":\n",
    "    player_inp = input(\"Hit or Stand: \")\n",
    "\n",
    "# If they ask for another card\n",
    "    if player_inp == \"Hit\":\n",
    "        x = random.choice(deck)\n",
    "        players[1][\"cards\"].append(x)\n",
    "        deck.pop(deck.index(x))\n",
    "\n",
    "# If they decide to Stand\n",
    "    elif player_inp == \"Stand\":\n",
    "        exit\n",
    "\n",
    "# Update score + Check if he has been busted\n",
    "for player in range(num_players + 1):\n",
    "    for card in players[player][\"cards\"]:\n",
    "        players[player][\"score\"] += card[1]\n",
    "    \n",
    "print(players)"
   ]
  },
  {
   "cell_type": "code",
   "execution_count": 8,
   "metadata": {},
   "outputs": [
    {
     "ename": "NameError",
     "evalue": "name 'score_player' is not defined",
     "output_type": "error",
     "traceback": [
      "\u001b[0;31m---------------------------------------------------------------------------\u001b[0m",
      "\u001b[0;31mNameError\u001b[0m                                 Traceback (most recent call last)",
      "\u001b[0;32m<ipython-input-8-843e2e36f1ad>\u001b[0m in \u001b[0;36m<module>\u001b[0;34m\u001b[0m\n\u001b[1;32m      1\u001b[0m \u001b[0;31m# Check winner\u001b[0m\u001b[0;34m\u001b[0m\u001b[0;34m\u001b[0m\u001b[0;34m\u001b[0m\u001b[0m\n\u001b[0;32m----> 2\u001b[0;31m \u001b[0;32mif\u001b[0m \u001b[0mscore_player\u001b[0m \u001b[0;34m==\u001b[0m \u001b[0;36m21\u001b[0m \u001b[0;32mand\u001b[0m \u001b[0mscore_cpu\u001b[0m \u001b[0;34m!=\u001b[0m \u001b[0;36m21\u001b[0m\u001b[0;34m:\u001b[0m\u001b[0;34m\u001b[0m\u001b[0;34m\u001b[0m\u001b[0m\n\u001b[0m\u001b[1;32m      3\u001b[0m     \u001b[0mprint\u001b[0m\u001b[0;34m(\u001b[0m\u001b[0;34m\"You have won with a Blackjack\"\u001b[0m\u001b[0;34m)\u001b[0m\u001b[0;34m\u001b[0m\u001b[0;34m\u001b[0m\u001b[0m\n\u001b[1;32m      4\u001b[0m \u001b[0;32melif\u001b[0m \u001b[0mscore_player\u001b[0m \u001b[0;34m>\u001b[0m \u001b[0mscore_cpu\u001b[0m \u001b[0;32mand\u001b[0m \u001b[0mscore_player\u001b[0m \u001b[0;34m<\u001b[0m \u001b[0;36m21\u001b[0m\u001b[0;34m:\u001b[0m\u001b[0;34m\u001b[0m\u001b[0;34m\u001b[0m\u001b[0m\n\u001b[1;32m      5\u001b[0m     \u001b[0mprint\u001b[0m\u001b[0;34m(\u001b[0m\u001b[0;34m\"You have won\"\u001b[0m\u001b[0;34m)\u001b[0m\u001b[0;34m\u001b[0m\u001b[0;34m\u001b[0m\u001b[0m\n",
      "\u001b[0;31mNameError\u001b[0m: name 'score_player' is not defined"
     ]
    }
   ],
   "source": [
    "# Check winner\n",
    "if score_player == 21 and score_cpu != 21:\n",
    "    print(\"You have won with a Blackjack\")\n",
    "elif score_player > score_cpu and score_player < 21:\n",
    "    print(\"You have won\")\n",
    "else:\n",
    "    print(\"CPU wins\")"
   ]
  },
  {
   "cell_type": "markdown",
   "metadata": {},
   "source": [
    "### Show winner"
   ]
  },
  {
   "cell_type": "code",
   "execution_count": null,
   "metadata": {},
   "outputs": [],
   "source": []
  },
  {
   "cell_type": "code",
   "execution_count": null,
   "metadata": {},
   "outputs": [],
   "source": []
  }
 ],
 "metadata": {
  "kernelspec": {
   "display_name": "Python 3",
   "language": "python",
   "name": "python3"
  },
  "language_info": {
   "codemirror_mode": {
    "name": "ipython",
    "version": 3
   },
   "file_extension": ".py",
   "mimetype": "text/x-python",
   "name": "python",
   "nbconvert_exporter": "python",
   "pygments_lexer": "ipython3",
   "version": "3.8.3"
  }
 },
 "nbformat": 4,
 "nbformat_minor": 4
}
